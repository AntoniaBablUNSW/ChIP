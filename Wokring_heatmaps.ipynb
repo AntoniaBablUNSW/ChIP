{
 "cells": [
  {
   "cell_type": "code",
   "execution_count": 1,
   "metadata": {},
   "outputs": [],
   "source": [
    "import pyBigWig\n",
    "import pandas as pd\n",
    "import seaborn as sns\n",
    "import matplotlib.pyplot as plt\n",
    "\n",
    "\n",
    "import gzip\n",
    "import shutil\n",
    "import os\n",
    "import subprocess\n",
    "import matplotlib.image as mpimg\n",
    "import math "
   ]
  },
  {
   "cell_type": "code",
   "execution_count": 2,
   "metadata": {},
   "outputs": [],
   "source": [
    "peaks_folder = \"/home/z5628505/Data/JoycData/NarrowPeaks\"\n",
    "output_directory = \"/home/z5628505/Data/JoycData/Results\"  # Define the directory here\n",
    "bigwig_folder = \"/home/z5628505/Data/JoycData/BigWig\""
   ]
  },
  {
   "cell_type": "markdown",
   "metadata": {},
   "source": [
    "Creating an expanded "
   ]
  },
  {
   "cell_type": "code",
   "execution_count": 6,
   "metadata": {},
   "outputs": [
    {
     "name": "stdout",
     "output_type": "stream",
     "text": [
      "Saving expanded peaks to: /home/z5628505/Data/JoycData/Results/LMO2_LMPP_expanded.bed\n",
      "Expanded peaks saved to /home/z5628505/Data/JoycData/Results/LMO2_LMPP_expanded.bed\n",
      "Saving expanded peaks to: /home/z5628505/Data/JoycData/Results/PU1_LMPP_expanded.bed\n",
      "Expanded peaks saved to /home/z5628505/Data/JoycData/Results/PU1_LMPP_expanded.bed\n",
      "Saving expanded peaks to: /home/z5628505/Data/JoycData/Results/CTCF_LMPP_expanded.bed\n",
      "Expanded peaks saved to /home/z5628505/Data/JoycData/Results/CTCF_LMPP_expanded.bed\n",
      "Saving expanded peaks to: /home/z5628505/Data/JoycData/Results/GATA2_LMPP_expanded.bed\n",
      "Expanded peaks saved to /home/z5628505/Data/JoycData/Results/GATA2_LMPP_expanded.bed\n",
      "Saving expanded peaks to: /home/z5628505/Data/JoycData/Results/LYL1_LMPP_expanded.bed\n",
      "Expanded peaks saved to /home/z5628505/Data/JoycData/Results/LYL1_LMPP_expanded.bed\n",
      "Saving expanded peaks to: /home/z5628505/Data/JoycData/Results/ERG_LMPP_expanded.bed\n",
      "Expanded peaks saved to /home/z5628505/Data/JoycData/Results/ERG_LMPP_expanded.bed\n",
      "Saving expanded peaks to: /home/z5628505/Data/JoycData/Results/STAG2_LMPP_expanded.bed\n",
      "Expanded peaks saved to /home/z5628505/Data/JoycData/Results/STAG2_LMPP_expanded.bed\n",
      "Saving expanded peaks to: /home/z5628505/Data/JoycData/Results/RUNX1_LMPP_expanded.bed\n",
      "Expanded peaks saved to /home/z5628505/Data/JoycData/Results/RUNX1_LMPP_expanded.bed\n",
      "Saving expanded peaks to: /home/z5628505/Data/JoycData/Results/FLI1_LMPP_expanded.bed\n",
      "Expanded peaks saved to /home/z5628505/Data/JoycData/Results/FLI1_LMPP_expanded.bed\n",
      "Saving expanded peaks to: /home/z5628505/Data/JoycData/Results/TAL1_LMPP_expanded.bed\n",
      "Expanded peaks saved to /home/z5628505/Data/JoycData/Results/TAL1_LMPP_expanded.bed\n"
     ]
    }
   ],
   "source": [
    "\n",
    "# Ensure output directory is an absolute path\n",
    "output_directory = os.path.abspath(output_directory)\n",
    "os.makedirs(output_directory, exist_ok=True)  # Create directory once, not in the loop\n",
    "\n",
    "reference_peak_files = [f for f in os.listdir(peaks_folder) if f.endswith(\".narrowPeak\")]\n",
    "\n",
    "for rfile in reference_peak_files:\n",
    "    # Load reference peak file\n",
    "    reference_name = \"_\".join(rfile.split(\"_\")[:2])\n",
    "\n",
    "    # Construct the output file path\n",
    "    output_file = os.path.join(output_directory, f\"{reference_name}_expanded.bed\")\n",
    "\n",
    "    print(f\"Saving expanded peaks to: {output_file}\")\n",
    "\n",
    "    # Load BED file (assuming no header, 10 columns for .narrowPeak)\n",
    "    file_path = os.path.join(peaks_folder, rfile)\n",
    "    df = pd.read_csv(file_path, sep=\"\\t\", header=None)\n",
    "\n",
    "    # Ensure file has enough columns\n",
    "    if df.shape[1] < 10:\n",
    "        print(f\"Skipping {rfile}: insufficient columns\")\n",
    "        continue\n",
    "\n",
    "    # Compute summit position (column 9 contains summit offset)\n",
    "    summit = df[1] + df[9]\n",
    "\n",
    "    # Expand regions symmetrically\n",
    "    df[1] = (summit - 500).clip(lower=0)  # Ensure no negative start positions\n",
    "    df[2] = summit + 750\n",
    "\n",
    "    # Save the expanded BED file\n",
    "    df.to_csv(output_file, sep=\"\\t\", header=False, index=False)\n",
    "\n",
    "    print(f\"Expanded peaks saved to {output_file}\")\n"
   ]
  },
  {
   "cell_type": "markdown",
   "metadata": {},
   "source": [
    "Make katrix with bigwig files and defined region"
   ]
  },
  {
   "cell_type": "code",
   "execution_count": null,
   "metadata": {},
   "outputs": [
    {
     "name": "stdout",
     "output_type": "stream",
     "text": [
      "Found BigWig files: ['/home/z5628505/Data/JoycData/BigWig/ERG_LMPP_JV74.bw', '/home/z5628505/Data/JoycData/BigWig/GATA2_LMPP_JV73.bw', '/home/z5628505/Data/JoycData/BigWig/TAL1_LMPP_JV68.bw', '/home/z5628505/Data/JoycData/BigWig/PU1_LMPP_JV75.bw', '/home/z5628505/Data/JoycData/BigWig/FLI1_LMPP_JV69.bw', '/home/z5628505/Data/JoycData/BigWig/LMO2_LMPP_JV71.bw', '/home/z5628505/Data/JoycData/BigWig/CTCF_LMPP_JV77.bw', '/home/z5628505/Data/JoycData/BigWig/RUNX1_LMPP_JV70.bw', '/home/z5628505/Data/JoycData/BigWig/LYL1_LMPP_JV72.bw', '/home/z5628505/Data/JoycData/BigWig/STAG2_LMPP_JV76.bw']\n",
      "Found expanded BED files: ['/home/z5628505/Data/JoycData/Results/GATA2_LMPP_expanded.bed', '/home/z5628505/Data/JoycData/Results/CTCF_LMPP_expanded.bed', '/home/z5628505/Data/JoycData/Results/LYL1_LMPP_expanded.bed', '/home/z5628505/Data/JoycData/Results/ERG_LMPP_expanded.bed', '/home/z5628505/Data/JoycData/Results/STAG2_LMPP_expanded.bed', '/home/z5628505/Data/JoycData/Results/TAL1_LMPP_expanded.bed', '/home/z5628505/Data/JoycData/Results/FLI1_LMPP_expanded.bed', '/home/z5628505/Data/JoycData/Results/PU1_LMPP_expanded.bed', '/home/z5628505/Data/JoycData/Results/RUNX1_LMPP_expanded.bed', '/home/z5628505/Data/JoycData/Results/LMO2_LMPP_expanded.bed']\n",
      "Running: computeMatrix reference-point -R /home/z5628505/Data/JoycData/Results/GATA2_LMPP_expanded.bed -S /home/z5628505/Data/JoycData/BigWig/ERG_LMPP_JV74.bw --skipZeros --outFileName /home/z5628505/Data/JoycData/Results/GATA2_LMPP_ERG_LMPP_Matrix.gz\n",
      "Running: computeMatrix reference-point -R /home/z5628505/Data/JoycData/Results/GATA2_LMPP_expanded.bed -S /home/z5628505/Data/JoycData/BigWig/GATA2_LMPP_JV73.bw --skipZeros --outFileName /home/z5628505/Data/JoycData/Results/GATA2_LMPP_GATA2_LMPP_Matrix.gz\n",
      "Running: computeMatrix reference-point -R /home/z5628505/Data/JoycData/Results/GATA2_LMPP_expanded.bed -S /home/z5628505/Data/JoycData/BigWig/TAL1_LMPP_JV68.bw --skipZeros --outFileName /home/z5628505/Data/JoycData/Results/GATA2_LMPP_TAL1_LMPP_Matrix.gz\n",
      "Running: computeMatrix reference-point -R /home/z5628505/Data/JoycData/Results/GATA2_LMPP_expanded.bed -S /home/z5628505/Data/JoycData/BigWig/PU1_LMPP_JV75.bw --skipZeros --outFileName /home/z5628505/Data/JoycData/Results/GATA2_LMPP_PU1_LMPP_Matrix.gz\n",
      "Running: computeMatrix reference-point -R /home/z5628505/Data/JoycData/Results/GATA2_LMPP_expanded.bed -S /home/z5628505/Data/JoycData/BigWig/FLI1_LMPP_JV69.bw --skipZeros --outFileName /home/z5628505/Data/JoycData/Results/GATA2_LMPP_FLI1_LMPP_Matrix.gz\n",
      "Running: computeMatrix reference-point -R /home/z5628505/Data/JoycData/Results/GATA2_LMPP_expanded.bed -S /home/z5628505/Data/JoycData/BigWig/LMO2_LMPP_JV71.bw --skipZeros --outFileName /home/z5628505/Data/JoycData/Results/GATA2_LMPP_LMO2_LMPP_Matrix.gz\n",
      "Running: computeMatrix reference-point -R /home/z5628505/Data/JoycData/Results/GATA2_LMPP_expanded.bed -S /home/z5628505/Data/JoycData/BigWig/CTCF_LMPP_JV77.bw --skipZeros --outFileName /home/z5628505/Data/JoycData/Results/GATA2_LMPP_CTCF_LMPP_Matrix.gz\n",
      "Running: computeMatrix reference-point -R /home/z5628505/Data/JoycData/Results/GATA2_LMPP_expanded.bed -S /home/z5628505/Data/JoycData/BigWig/RUNX1_LMPP_JV70.bw --skipZeros --outFileName /home/z5628505/Data/JoycData/Results/GATA2_LMPP_RUNX1_LMPP_Matrix.gz\n",
      "Running: computeMatrix reference-point -R /home/z5628505/Data/JoycData/Results/GATA2_LMPP_expanded.bed -S /home/z5628505/Data/JoycData/BigWig/LYL1_LMPP_JV72.bw --skipZeros --outFileName /home/z5628505/Data/JoycData/Results/GATA2_LMPP_LYL1_LMPP_Matrix.gz\n",
      "Running: computeMatrix reference-point -R /home/z5628505/Data/JoycData/Results/GATA2_LMPP_expanded.bed -S /home/z5628505/Data/JoycData/BigWig/STAG2_LMPP_JV76.bw --skipZeros --outFileName /home/z5628505/Data/JoycData/Results/GATA2_LMPP_STAG2_LMPP_Matrix.gz\n",
      "Running: computeMatrix reference-point -R /home/z5628505/Data/JoycData/Results/CTCF_LMPP_expanded.bed -S /home/z5628505/Data/JoycData/BigWig/ERG_LMPP_JV74.bw --skipZeros --outFileName /home/z5628505/Data/JoycData/Results/CTCF_LMPP_ERG_LMPP_Matrix.gz\n",
      "Running: computeMatrix reference-point -R /home/z5628505/Data/JoycData/Results/CTCF_LMPP_expanded.bed -S /home/z5628505/Data/JoycData/BigWig/GATA2_LMPP_JV73.bw --skipZeros --outFileName /home/z5628505/Data/JoycData/Results/CTCF_LMPP_GATA2_LMPP_Matrix.gz\n"
     ]
    },
    {
     "name": "stderr",
     "output_type": "stream",
     "text": [
      "Skipping CTCF_LMPP_JV77_peak_12511, due to being absent in the computeMatrix output.\n"
     ]
    },
    {
     "name": "stdout",
     "output_type": "stream",
     "text": [
      "Running: computeMatrix reference-point -R /home/z5628505/Data/JoycData/Results/CTCF_LMPP_expanded.bed -S /home/z5628505/Data/JoycData/BigWig/TAL1_LMPP_JV68.bw --skipZeros --outFileName /home/z5628505/Data/JoycData/Results/CTCF_LMPP_TAL1_LMPP_Matrix.gz\n"
     ]
    },
    {
     "name": "stderr",
     "output_type": "stream",
     "text": [
      "Skipping CTCF_LMPP_JV77_peak_9886, due to being absent in the computeMatrix output.\n",
      "Skipping CTCF_LMPP_JV77_peak_18793b, due to being absent in the computeMatrix output.\n",
      "Skipping CTCF_LMPP_JV77_peak_18793c, due to being absent in the computeMatrix output.\n"
     ]
    },
    {
     "name": "stdout",
     "output_type": "stream",
     "text": [
      "Running: computeMatrix reference-point -R /home/z5628505/Data/JoycData/Results/CTCF_LMPP_expanded.bed -S /home/z5628505/Data/JoycData/BigWig/PU1_LMPP_JV75.bw --skipZeros --outFileName /home/z5628505/Data/JoycData/Results/CTCF_LMPP_PU1_LMPP_Matrix.gz\n",
      "Running: computeMatrix reference-point -R /home/z5628505/Data/JoycData/Results/CTCF_LMPP_expanded.bed -S /home/z5628505/Data/JoycData/BigWig/FLI1_LMPP_JV69.bw --skipZeros --outFileName /home/z5628505/Data/JoycData/Results/CTCF_LMPP_FLI1_LMPP_Matrix.gz\n",
      "Running: computeMatrix reference-point -R /home/z5628505/Data/JoycData/Results/CTCF_LMPP_expanded.bed -S /home/z5628505/Data/JoycData/BigWig/LMO2_LMPP_JV71.bw --skipZeros --outFileName /home/z5628505/Data/JoycData/Results/CTCF_LMPP_LMO2_LMPP_Matrix.gz\n",
      "Running: computeMatrix reference-point -R /home/z5628505/Data/JoycData/Results/CTCF_LMPP_expanded.bed -S /home/z5628505/Data/JoycData/BigWig/CTCF_LMPP_JV77.bw --skipZeros --outFileName /home/z5628505/Data/JoycData/Results/CTCF_LMPP_CTCF_LMPP_Matrix.gz\n",
      "Running: computeMatrix reference-point -R /home/z5628505/Data/JoycData/Results/CTCF_LMPP_expanded.bed -S /home/z5628505/Data/JoycData/BigWig/RUNX1_LMPP_JV70.bw --skipZeros --outFileName /home/z5628505/Data/JoycData/Results/CTCF_LMPP_RUNX1_LMPP_Matrix.gz\n"
     ]
    }
   ],
   "source": [
    "# Get list of BigWig files\n",
    "bw_files = [os.path.join(bigwig_folder, f) for f in os.listdir(bigwig_folder) if f.endswith(\".bw\")]\n",
    "\n",
    "print(\"Found BigWig files:\", bw_files)\n",
    "\n",
    "# Get list of expanded BED files\n",
    "expanded_bed_files = [os.path.join(output_directory, f) for f in os.listdir(output_directory) if f.endswith(\"_expanded.bed\")]\n",
    "\n",
    "print(\"Found expanded BED files:\", expanded_bed_files)\n",
    "\n",
    "for rfile in expanded_bed_files:  # Iterate over BED files\n",
    "    reference_name = \"_\".join(os.path.basename(rfile).split(\"_\")[:2])  # Extract reference name\n",
    "\n",
    "    for bw_file in bw_files:\n",
    "        bw_name = os.path.basename(bw_file).replace(\".bw\", \"\")\n",
    "        sample_name = \"_\".join(bw_name.split(\"_\")[:2])  # Extract first two prefixes\n",
    "        \n",
    "        matrix_file = os.path.join(output_directory, f\"{reference_name}_{sample_name}_Matrix.gz\")\n",
    "\n",
    "        # Run computeMatrix\n",
    "        command = [\n",
    "            \"computeMatrix\", \"reference-point\",\n",
    "            \"-R\", rfile, \"-S\", bw_file,\n",
    "            \"--skipZeros\", \"--outFileName\", matrix_file\n",
    "        ]\n",
    "\n",
    "        print(f\"Running: {' '.join(command)}\")  # Print command for debugging\n",
    "        subprocess.run(command, check=True)"
   ]
  },
  {
   "cell_type": "code",
   "execution_count": null,
   "metadata": {},
   "outputs": [],
   "source": [
    "\n",
    "# Define output directory where matrix files are stored\n",
    "matrix_directory = output_directory  # This is where matrices are stored\n",
    "heatmap_directory = output_directory  # This is where heatmaps will be saved\n",
    "\n",
    "# Get all .gz files in the output directory\n",
    "matrix_files = [os.path.join(matrix_directory, f) for f in os.listdir(matrix_directory) if f.endswith(\".gz\")]\n",
    "\n",
    "print(\"Found matrix files:\", matrix_files)\n",
    "\n",
    "for matrix_file in matrix_files:\n",
    "    print(f\"Processing {matrix_file}\")\n",
    "\n",
    "    # Read matrix file directly from .gz\n",
    "    with gzip.open(matrix_file, \"rt\", encoding=\"utf-8\", errors=\"replace\") as f:\n",
    "        df = pd.read_csv(f, sep=\"\\t\", comment='@', header=None)\n",
    "\n",
    "    # Check the first few rows to inspect the structure\n",
    "    print(f\"First few rows of {matrix_file}:\")\n",
    "    print(df.head())\n",
    "\n",
    "    # Create the heatmap\n",
    "    matrix_name = os.path.basename(matrix_file).replace(\"_matrix.gz\", \"\")\n",
    "       # Define both PNG and SVG output paths\n",
    "    heatmap_output_png = os.path.join(heatmap_directory, f\"{matrix_name}_heatmap.png\")\n",
    "    heatmap_output_svg = os.path.join(heatmap_directory, f\"{matrix_name}_heatmap.svg\")\n",
    "\n",
    "    # Command for PNG output\n",
    "   # command_png = [\n",
    "       # \"plotHeatmap\",\n",
    "       # \"-m\", matrix_file,  # Path to the matrix file\n",
    "       # \"-out\", heatmap_output_png,  # Output path for PNG\n",
    "        #\"--colorMap\", \"RdYlBu\",  # Color map\n",
    "    #]\n",
    "\n",
    "    # Command for SVG output\n",
    "    command_svg = [\n",
    "        \"plotHeatmap\",\n",
    "        \"-m\", matrix_file,  # Path to the matrix file\n",
    "        \"-out\", heatmap_output_svg,  # Output path for SVG\n",
    "        \"--colorMap\", \"RdYlBu\",  # Color map\n",
    "    ]\n",
    "\n",
    "    # Run both commands\n",
    "    for command in [command_svg]:\n",
    "        print(f\"Running command: {' '.join(command)}\")  # Debugging info\n",
    "        result = subprocess.run(command, check=False, capture_output=True, text=True)\n",
    "        print(result.stderr)  # Print any errors\n",
    "\n",
    "    "
   ]
  }
 ],
 "metadata": {
  "kernelspec": {
   "display_name": "Heatmap",
   "language": "python",
   "name": "python3"
  },
  "language_info": {
   "codemirror_mode": {
    "name": "ipython",
    "version": 3
   },
   "file_extension": ".py",
   "mimetype": "text/x-python",
   "name": "python",
   "nbconvert_exporter": "python",
   "pygments_lexer": "ipython3",
   "version": "3.11.3"
  }
 },
 "nbformat": 4,
 "nbformat_minor": 2
}
